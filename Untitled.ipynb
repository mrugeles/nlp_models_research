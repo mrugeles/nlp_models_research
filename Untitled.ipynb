{
 "cells": [
  {
   "cell_type": "code",
   "execution_count": 3,
   "metadata": {},
   "outputs": [],
   "source": [
    "import os\n",
    "import json\n",
    "import pandas as pd"
   ]
  },
  {
   "cell_type": "code",
   "execution_count": 15,
   "metadata": {},
   "outputs": [
    {
     "data": {
      "text/html": [
       "<div>\n",
       "<style scoped>\n",
       "    .dataframe tbody tr th:only-of-type {\n",
       "        vertical-align: middle;\n",
       "    }\n",
       "\n",
       "    .dataframe tbody tr th {\n",
       "        vertical-align: top;\n",
       "    }\n",
       "\n",
       "    .dataframe thead th {\n",
       "        text-align: right;\n",
       "    }\n",
       "</style>\n",
       "<table border=\"1\" class=\"dataframe\">\n",
       "  <thead>\n",
       "    <tr style=\"text-align: right;\">\n",
       "      <th></th>\n",
       "      <th>id</th>\n",
       "      <th>text</th>\n",
       "    </tr>\n",
       "  </thead>\n",
       "  <tbody>\n",
       "    <tr>\n",
       "      <th>0</th>\n",
       "      <td>1349550956044759047</td>\n",
       "      <td>@pulzo @IvanDuque lo que faltaba</td>\n",
       "    </tr>\n",
       "    <tr>\n",
       "      <th>1</th>\n",
       "      <td>1349550939989041158</td>\n",
       "      <td>@yolallamo3 @RafaMarmolejo5 @UranRigoberto @Ce...</td>\n",
       "    </tr>\n",
       "    <tr>\n",
       "      <th>2</th>\n",
       "      <td>1349550916018561027</td>\n",
       "      <td>@cardenasjorgee @IvanDuque @PartidoFARC Jajaja...</td>\n",
       "    </tr>\n",
       "    <tr>\n",
       "      <th>3</th>\n",
       "      <td>1349550913640427527</td>\n",
       "      <td>El @CongresoCol esta en la obligación URGENTE ...</td>\n",
       "    </tr>\n",
       "    <tr>\n",
       "      <th>4</th>\n",
       "      <td>1349550911438385152</td>\n",
       "      <td>Igual a mí  y mí familia...!!! @IvanDuque @Jua...</td>\n",
       "    </tr>\n",
       "    <tr>\n",
       "      <th>...</th>\n",
       "      <td>...</td>\n",
       "      <td>...</td>\n",
       "    </tr>\n",
       "    <tr>\n",
       "      <th>95</th>\n",
       "      <td>1349549736630611973</td>\n",
       "      <td>@millersoto @PGN_COL @SandraFARC @Sergio_FARC ...</td>\n",
       "    </tr>\n",
       "    <tr>\n",
       "      <th>96</th>\n",
       "      <td>1349549734768345089</td>\n",
       "      <td>@IvanDuque es un mentiroso compulsivo. Un tris...</td>\n",
       "    </tr>\n",
       "    <tr>\n",
       "      <th>97</th>\n",
       "      <td>1349549721925406720</td>\n",
       "      <td>@JuanDie48483631 @Jairocofla @CRUZADANACIONA2 ...</td>\n",
       "    </tr>\n",
       "    <tr>\n",
       "      <th>98</th>\n",
       "      <td>1349549709183094786</td>\n",
       "      <td>@TameMamers @petrogustavo Sígueme y te sigo</td>\n",
       "    </tr>\n",
       "    <tr>\n",
       "      <th>99</th>\n",
       "      <td>1349549707773812738</td>\n",
       "      <td>@millersoto @PGN_COL @SandraFARC @Sergio_FARC ...</td>\n",
       "    </tr>\n",
       "  </tbody>\n",
       "</table>\n",
       "<p>100 rows × 2 columns</p>\n",
       "</div>"
      ],
      "text/plain": [
       "                     id                                               text\n",
       "0   1349550956044759047                   @pulzo @IvanDuque lo que faltaba\n",
       "1   1349550939989041158  @yolallamo3 @RafaMarmolejo5 @UranRigoberto @Ce...\n",
       "2   1349550916018561027  @cardenasjorgee @IvanDuque @PartidoFARC Jajaja...\n",
       "3   1349550913640427527  El @CongresoCol esta en la obligación URGENTE ...\n",
       "4   1349550911438385152  Igual a mí  y mí familia...!!! @IvanDuque @Jua...\n",
       "..                  ...                                                ...\n",
       "95  1349549736630611973  @millersoto @PGN_COL @SandraFARC @Sergio_FARC ...\n",
       "96  1349549734768345089  @IvanDuque es un mentiroso compulsivo. Un tris...\n",
       "97  1349549721925406720  @JuanDie48483631 @Jairocofla @CRUZADANACIONA2 ...\n",
       "98  1349549709183094786        @TameMamers @petrogustavo Sígueme y te sigo\n",
       "99  1349549707773812738  @millersoto @PGN_COL @SandraFARC @Sergio_FARC ...\n",
       "\n",
       "[100 rows x 2 columns]"
      ]
     },
     "execution_count": 15,
     "metadata": {},
     "output_type": "execute_result"
    }
   ],
   "source": [
    "def get_json_file(path):\n",
    "    with open(path) as json_file:\n",
    "        return json.load(json_file)\n",
    "\n",
    "def json_to_df(path):\n",
    "    json_tweets = get_json_file(path)\n",
    "    return pd.DataFrame.from_dict(json_tweets['data'])\n",
    "\n",
    "json_to_df('datasets/colombia_politics_dataset/1349549707773812738.json')"
   ]
  },
  {
   "cell_type": "code",
   "execution_count": 14,
   "metadata": {},
   "outputs": [
    {
     "data": {
      "text/plain": [
       "(152128, 2)"
      ]
     },
     "execution_count": 14,
     "metadata": {},
     "output_type": "execute_result"
    }
   ],
   "source": [
    "path_files = 'datasets/colombia_politics_dataset'\n",
    "tweets_df = pd.concat([json_to_df(f'{path_files}/{file}') for file in os.listdir(path_files)])\n",
    "tweets_df.shape"
   ]
  }
 ],
 "metadata": {
  "kernelspec": {
   "display_name": "Python 3",
   "language": "python",
   "name": "python3"
  },
  "language_info": {
   "codemirror_mode": {
    "name": "ipython",
    "version": 3
   },
   "file_extension": ".py",
   "mimetype": "text/x-python",
   "name": "python",
   "nbconvert_exporter": "python",
   "pygments_lexer": "ipython3",
   "version": "3.7.9"
  }
 },
 "nbformat": 4,
 "nbformat_minor": 4
}
